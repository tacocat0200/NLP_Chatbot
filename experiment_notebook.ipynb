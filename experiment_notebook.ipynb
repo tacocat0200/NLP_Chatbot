{
 "cells": [
  {
   "cell_type": "code",
   "execution_count": null,
   "metadata": {},
   "outputs": [],
   "source": [
    "# # Experiment Notebook for NLP Chatbot\n",
    "\n",
    "# This notebook documents the experiments conducted to improve the performance of the NLP chatbot.\n",
    "# It includes data analysis, model evaluation, and visualization of results.\n"
   ]
  },
  {
   "cell_type": "code",
   "execution_count": 1,
   "metadata": {},
   "outputs": [],
   "source": [
    "import pandas as pd\n",
    "import numpy as np\n",
    "import matplotlib.pyplot as plt\n",
    "import seaborn as sns\n",
    "from sklearn.metrics import accuracy_score, confusion_matrix\n",
    "import json"
   ]
  },
  {
   "cell_type": "code",
   "execution_count": null,
   "metadata": {},
   "outputs": [],
   "source": [
    "# Load the training data\n",
    "training_data = pd.read_csv('training_data.csv')\n",
    "# Load evaluation data\n",
    "eval_data = pd.read_json('eval_data.json')\n",
    "\n",
    "# Display the first few rows of the training data\n",
    "training_data.head()"
   ]
  },
  {
   "cell_type": "code",
   "execution_count": null,
   "metadata": {},
   "outputs": [],
   "source": [
    "# Check for missing values\n",
    "print(training_data.isnull().sum())\n",
    "\n",
    "# Visualize the distribution of sentiments in the training data\n",
    "sns.countplot(x='sentiment', data=training_data)\n",
    "plt.title('Sentiment Distribution')\n",
    "plt.show()\n",
    "\n",
    "# Display word cloud for common words in training messages\n",
    "from wordcloud import WordCloud\n",
    "\n",
    "text = ' '.join(training_data['message'])\n",
    "wordcloud = WordCloud(width=800, height=400, background_color='white').generate(text)\n",
    "\n",
    "plt.figure(figsize=(10, 5))\n",
    "plt.imshow(wordcloud, interpolation='bilinear')\n",
    "plt.axis('off')\n",
    "plt.title('Word Cloud of Messages')\n",
    "plt.show()"
   ]
  },
  {
   "cell_type": "code",
   "execution_count": null,
   "metadata": {},
   "outputs": [],
   "source": [
    "# Example: Load a pre-trained model (e.g., BERT)\n",
    "from transformers import BertTokenizer, BertForSequenceClassification\n",
    "from transformers import Trainer, TrainingArguments\n",
    "\n",
    "# Load tokenizer and model\n",
    "tokenizer = BertTokenizer.from_pretrained('bert-base-uncased')\n",
    "model = BertForSequenceClassification.from_pretrained('bert-base-uncased')\n",
    "\n",
    "# Tokenize the input\n",
    "train_encodings = tokenizer(list(training_data['message']), truncation=True, padding=True)\n",
    "\n",
    "# Train the model (pseudo code, actual training code will vary)\n",
    "# training_args = TrainingArguments(...)\n",
    "# trainer = Trainer(model=model, args=training_args, train_dataset=train_dataset)\n",
    "# trainer.train()\n",
    "\n",
    "# Evaluate the model on evaluation data (pseudo code)\n",
    "# predictions = trainer.predict(eval_dataset)\n",
    "\n",
    "# Calculate accuracy\n",
    "# accuracy = accuracy_score(eval_data['true_labels'], predictions.argmax(axis=1))\n",
    "# print(f'Accuracy: {accuracy * 100:.2f}%')\n"
   ]
  },
  {
   "cell_type": "code",
   "execution_count": null,
   "metadata": {},
   "outputs": [],
   "source": [
    "# Confusion Matrix\n",
    "confusion_mat = confusion_matrix(eval_data['true_labels'], predictions.argmax(axis=1))\n",
    "\n",
    "plt.figure(figsize=(8, 6))\n",
    "sns.heatmap(confusion_mat, annot=True, fmt='d', cmap='Blues', \n",
    "            xticklabels=['Negative', 'Neutral', 'Positive'], \n",
    "            yticklabels=['Negative', 'Neutral', 'Positive'])\n",
    "plt.ylabel('Actual')\n",
    "plt.xlabel('Predicted')\n",
    "plt.title('Confusion Matrix')\n",
    "plt.show()\n"
   ]
  },
  {
   "cell_type": "code",
   "execution_count": null,
   "metadata": {},
   "outputs": [],
   "source": [
    "# Display sentiment analysis results\n",
    "sentiment_results = pd.DataFrame({\n",
    "    'Message': eval_data['message'],\n",
    "    'Predicted Sentiment': predictions.argmax(axis=1),\n",
    "    'True Sentiment': eval_data['true_labels']\n",
    "})\n",
    "\n",
    "sentiment_results.head()\n"
   ]
  }
 ],
 "metadata": {
  "kernelspec": {
   "display_name": "Python 3",
   "language": "python",
   "name": "python3"
  },
  "language_info": {
   "codemirror_mode": {
    "name": "ipython",
    "version": 3
   },
   "file_extension": ".py",
   "mimetype": "text/x-python",
   "name": "python",
   "nbconvert_exporter": "python",
   "pygments_lexer": "ipython3",
   "version": "3.11.2"
  }
 },
 "nbformat": 4,
 "nbformat_minor": 2
}
